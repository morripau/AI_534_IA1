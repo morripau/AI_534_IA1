{
 "cells": [
  {
   "cell_type": "code",
   "execution_count": 438,
   "metadata": {},
   "outputs": [],
   "source": [
    "import numpy as np, pandas as pd, matplotlib.pyplot as plt, random"
   ]
  },
  {
   "cell_type": "code",
   "execution_count": 449,
   "metadata": {},
   "outputs": [],
   "source": [
    "def load_data(path):\n",
    "    # Your code here:\n",
    "    loaded_data = pd.read_csv(path, parse_dates= [\"date\"])\n",
    "    return loaded_data"
   ]
  },
  {
   "cell_type": "code",
   "execution_count": 546,
   "metadata": {},
   "outputs": [],
   "source": [
    "def preprocess_data(data, normalize:bool=False, drop_sqft_living15:bool=False, test:bool=False):\n",
    "    # Your code here:\n",
    "    preprocessed_data = data.copy()  \n",
    "\n",
    "    # add year, month and day columns in the data DF\n",
    "    preprocessed_data[\"year\"]  = preprocessed_data[\"date\"].dt.year\n",
    "    preprocessed_data[\"month\"] = preprocessed_data[\"date\"].dt.month\n",
    "    preprocessed_data[\"day\"]   = preprocessed_data[\"date\"].dt.day\n",
    "\n",
    "    # add a bias column of all 1's, drop the date column\n",
    "    preprocessed_data.insert(0, \"bias\", 1)\n",
    "    preprocessed_data.drop([\"id\", \"date\"], axis=1, inplace=True)\n",
    "\n",
    "    # add age since renovated column accounting for houses not renovated since built\n",
    "    age_since_renovated = np.zeros(len(preprocessed_data))\n",
    "    for (i, value) in enumerate(preprocessed_data[\"yr_renovated\"]):\n",
    "        if value==0:\n",
    "            age_since_renovated[i] = preprocessed_data[\"year\"][i] - preprocessed_data[\"yr_built\"][i]\n",
    "        else:\n",
    "            age_since_renovated[i] = preprocessed_data[\"year\"][i] - preprocessed_data[\"yr_renovated\"][i]\n",
    "    preprocessed_data[\"age_since_renovated\"] = age_since_renovated\n",
    "\n",
    "    # normalize data if option to normalize selected\n",
    "    if normalize:\n",
    "        global params\n",
    "        params = {}\n",
    "        for col in preprocessed_data.columns:\n",
    "            if col != \"price\" and col!= \"waterfront\" and col != \"bias\":\n",
    "                μ = np.mean(preprocessed_data[col])\n",
    "                σ = np.std(preprocessed_data[col])\n",
    "                preprocessed_data[col]   = (preprocessed_data[col] -μ)/ σ\n",
    "                params[col] = (μ, σ)\n",
    "    if test:\n",
    "         for col in preprocessed_data.columns:\n",
    "            if col != \"price\" and col!= \"waterfront\" and col != \"bias\":\n",
    "                μ = params[col][0]\n",
    "                σ = params[col][1]\n",
    "                preprocessed_data[col]   = (preprocessed_data[col] -μ)/ σ\n",
    "                \n",
    "    \n",
    "    # drop sqrt living 15 if option selected to drop\n",
    "    if drop_sqft_living15:\n",
    "        preprocessed_data.drop([\"sqft_living15\"], axis=1, inplace=True)\n",
    "    \n",
    "    # return preprocessed data   \n",
    "    return preprocessed_data\n"
   ]
  },
  {
   "cell_type": "code",
   "execution_count": 458,
   "metadata": {},
   "outputs": [],
   "source": [
    "data = load_data('IA1_train.csv')\n",
    "normalized_data = preprocess_data(data,normalize=True)"
   ]
  },
  {
   "cell_type": "code",
   "execution_count": 632,
   "metadata": {},
   "outputs": [
    {
     "data": {
      "text/plain": [
       "array([0.16515335, 0.96289371, 0.5938621 , 0.45975024, 0.81757376,\n",
       "       0.38018047, 0.79324314, 0.92588697, 0.87490593, 0.70114379,\n",
       "       0.21822478, 0.59109443, 0.4024384 , 0.04556009, 0.71392265,\n",
       "       0.36361365, 0.23857636, 0.57616453, 0.22599335, 0.61465803,\n",
       "       0.936029  ])"
      ]
     },
     "execution_count": 632,
     "metadata": {},
     "output_type": "execute_result"
    }
   ],
   "source": [
    "random.seed(2)\n",
    "np.random.rand(data.shape[1])"
   ]
  },
  {
   "cell_type": "code",
   "execution_count": 668,
   "metadata": {},
   "outputs": [],
   "source": [
    "\n",
    "a = np.random.rand(1, 21)"
   ]
  },
  {
   "cell_type": "code",
   "execution_count": 670,
   "metadata": {},
   "outputs": [
    {
     "data": {
      "text/plain": [
       "array([4.37647315e-04, 6.94296679e-01, 5.86837033e-01, 8.69048223e-01,\n",
       "       9.86009049e-01, 5.08674905e-01, 4.58455320e-01, 2.31985095e-01,\n",
       "       8.81776342e-01, 6.88619185e-01, 6.65820067e-01, 1.66266540e-01,\n",
       "       1.45760220e-01, 8.65103706e-01, 7.23653242e-01, 8.93281294e-01,\n",
       "       4.20378079e-01, 3.23078652e-01, 4.31807056e-01, 3.16963242e-01,\n",
       "       8.13516084e-01])"
      ]
     },
     "execution_count": 670,
     "metadata": {},
     "output_type": "execute_result"
    }
   ],
   "source": [
    "a[0]"
   ]
  },
  {
   "cell_type": "code",
   "execution_count": 675,
   "metadata": {},
   "outputs": [],
   "source": [
    "def gd_train(data, lr, ϵ, n_iter=4000):\n",
    "    # Your code here:\n",
    "    labels = data[\"price\"].to_numpy()\n",
    "    data = data.drop([\"price\"], axis=1)\n",
    "    data = data.to_numpy()\n",
    "    n_data = data.shape[0]\n",
    "    n_features = data.shape[1]\n",
    "    x = np.transpose(data)\n",
    "    weights = np.ones(n_features)\n",
    "    mse = np.zeros(n_iter + 1)   \n",
    "    convergence = {}\n",
    "\n",
    "     \n",
    "    for i in range(n_iter):\n",
    "        Bₙ = np.zeros(n_features)\n",
    "        loss = 0\n",
    "        for j in range(n_data):\n",
    "            yᵢ = labels[j]\n",
    "            xᵢ = x[:,j]\n",
    "            ŷᵢ = np.dot(weights, xᵢ)\n",
    "            Bₙ[:] += (ŷᵢ - yᵢ) * xᵢ          \n",
    "            loss += (ŷᵢ - yᵢ) ** 2\n",
    "        \n",
    "\n",
    "        ΔL = (2/n_data) * Bₙ\n",
    "        mse[i+1] = loss/n_data\n",
    "        diff = mse[i+1] - mse[i]\n",
    "        \n",
    "        \n",
    "        if abs(diff)<=ϵ and abs(diff) != mse[i+1]:\n",
    "            weights -= lr * ΔL\n",
    "            convergence[f\"{lr}\"] = True \n",
    "            return weights, mse[1: i+2], convergence\n",
    "        \n",
    "        elif diff < 0:\n",
    "            weights -= lr * ΔL\n",
    "            convergence[f\"{lr}\"] = \"Will Converge\"\n",
    "            continue\n",
    "        \n",
    "        elif diff>0 and abs(diff) != mse[i+1]:\n",
    "            convergence[f\"{lr}\"] = False\n",
    "            return weights, mse[1: i+2], convergence\n",
    "            \n",
    "        weights -= lr * ΔL \n",
    "        \n",
    "    return weights, mse[1: ], convergence"
   ]
  },
  {
   "cell_type": "code",
   "execution_count": 676,
   "metadata": {},
   "outputs": [],
   "source": [
    "result = gd_train(normalized_data, 0.1, 10**-3)"
   ]
  },
  {
   "cell_type": "code",
   "execution_count": 677,
   "metadata": {},
   "outputs": [],
   "source": [
    "weights, mse, convergence,  = result"
   ]
  },
  {
   "cell_type": "code",
   "execution_count": 9,
   "metadata": {},
   "outputs": [],
   "source": [
    "def compare_rate(data, lrs, ϵ):\n",
    "    mses = {}\n",
    "    convergences = {}\n",
    "    weights = {}\n",
    "    for lr in lrs:\n",
    "        (weight, mse, convergence) = gd_train(data, lr, ϵ)\n",
    "        mses[f\"{lr}\"] = mse\n",
    "        convergences[f\"{lr}\"] = convergence\n",
    "        weights[f\"{lr}\"] = weight\n",
    "        \n",
    "    return weights, mses, convergences"
   ]
  },
  {
   "cell_type": "code",
   "execution_count": 10,
   "metadata": {},
   "outputs": [],
   "source": [
    "lrs = [0.0001, 0.001, 0.01, 0.1, 1]"
   ]
  },
  {
   "cell_type": "code",
   "execution_count": 506,
   "metadata": {},
   "outputs": [],
   "source": [
    "weights, mses, convergence = compare_rate(normalized_data, lrs, 10 ** -3)"
   ]
  },
  {
   "cell_type": "code",
   "execution_count": 12,
   "metadata": {},
   "outputs": [],
   "source": [
    "def plot_losses(losses, covergence):\n",
    "\n",
    "    fig, ax = plt.subplots(figsize=[16,9])\n",
    "    plt.ylabel('Loss', fontweight=\"bold\", )\n",
    "    plt.xlabel('Iteration', fontweight=\"bold\")\n",
    "#     plt.xlim(1, 4000)\n",
    "    plt.title(\"Convergence of Learning steps; Normalized data\", fontweight=\"bold\")\n",
    "\n",
    "    for (γ, loss) in losses.items():\n",
    "        \n",
    "        if convergence[γ][γ]==False:\n",
    "            pass\n",
    "        else:\n",
    "            iterations = [j for j in range(1, len(loss)+1)]\n",
    "            plt.plot(iterations, loss, label=f\"γ={γ}\")\n",
    "            \n",
    "    ax.legend(loc='upper right')\n",
    "    plt.savefig(\"Convergence\")\n",
    "    plt.show()"
   ]
  },
  {
   "cell_type": "code",
   "execution_count": 13,
   "metadata": {},
   "outputs": [
    {
     "data": {
      "image/png": "[encoded data removed]",
      "text/plain": [
       "<Figure size 1152x648 with 1 Axes>"
      ]
     },
     "metadata": {
      "needs_background": "light"
     },
     "output_type": "display_data"
    }
   ],
   "source": [
    "plot_losses(mses, convergence)"
   ]
  },
  {
   "cell_type": "code",
   "execution_count": 14,
   "metadata": {},
   "outputs": [],
   "source": [
    "val_data = load_data(\"IA1_dev.csv\")"
   ]
  },
  {
   "cell_type": "code",
   "execution_count": 531,
   "metadata": {},
   "outputs": [],
   "source": [
    "def validate(val_data, weights):\n",
    "    val_labels = val_data[\"price\"].to_numpy()\n",
    "    val_data = val_data.drop([\"price\"], axis=1)\n",
    "    val_data = val_data.to_numpy()\n",
    "    n_data = val_data.shape[0]\n",
    "    x_val = np.transpose(val_data)\n",
    "     \n",
    "    mse = {}\n",
    "    if type(weights) is dict:\n",
    "        for (γ, weight) in weights.items():\n",
    "            loss = 0\n",
    "            if convergence[γ][γ]==False:\n",
    "                pass\n",
    "            else:\n",
    "                for j in range(n_data):\n",
    "                    yᵢ_val = val_labels[j]\n",
    "                    xᵢ_val = x_val[:,j]\n",
    "                    ŷᵢ_val = np.dot(weight, xᵢ_val)         \n",
    "                    loss += (ŷᵢ_val - yᵢ_val) ** 2\n",
    "                mse[f\"{γ}\"] = round((1/n_data) * loss, 3) \n",
    "    else:\n",
    "        loss=0\n",
    "        for j in range(n_data):\n",
    "                yᵢ_val = val_labels[j]\n",
    "                xᵢ_val = x_val[:,j]\n",
    "                ŷᵢ_val = np.dot(weights, xᵢ_val)         \n",
    "                loss += (ŷᵢ_val - yᵢ_val) ** 2\n",
    "        mse = round((1/n_data) * loss, 3)\n",
    "        return mse\n",
    "    \n",
    "    return mse"
   ]
  },
  {
   "cell_type": "code",
   "execution_count": 543,
   "metadata": {},
   "outputs": [],
   "source": [
    "val_data = load_data(\"IA1_dev.csv\")\n",
    "val_preprocessed = preprocess_data(val_data, test=True)"
   ]
  },
  {
   "cell_type": "code",
   "execution_count": 545,
   "metadata": {},
   "outputs": [
    {
     "data": {
      "text/plain": [
       "{'0.0001': 10.918, '0.001': 5.265, '0.01': 4.792, '0.1': 4.704}"
      ]
     },
     "execution_count": 545,
     "metadata": {},
     "output_type": "execute_result"
    }
   ],
   "source": [
    "validate(val_preprocessed, weights)"
   ]
  },
  {
   "cell_type": "code",
   "execution_count": 528,
   "metadata": {},
   "outputs": [],
   "source": [
    "data\n",
    "plain_data =preprocess_data(data)"
   ]
  },
  {
   "cell_type": "code",
   "execution_count": 740,
   "metadata": {},
   "outputs": [],
   "source": [
    "plain_result = gd_train(plain_data, lr = 9.84*(10**-11), ϵ=0.01, n_iter = 4000)"
   ]
  },
  {
   "cell_type": "code",
   "execution_count": 741,
   "metadata": {},
   "outputs": [
    {
     "data": {
      "text/plain": [
       "(array([ 9.99989124e-01,  9.99423805e-01,  9.99406577e-01,  7.50961432e-02,\n",
       "        -7.18507373e-04,  9.99810108e-01,  9.99993038e-01,  9.99746629e-01,\n",
       "         1.00001161e+00,  9.99011905e-01,  2.89282052e-01,  7.85814092e-01,\n",
       "         9.71361082e-01,  8.77846815e-01, -5.69099644e-02,  9.99473086e-01,\n",
       "         1.00129926e+00,  3.87766582e-01, -2.89349848e-03,  9.78109928e-01,\n",
       "         9.99885009e-01,  9.99885718e-01,  1.01016137e+00]),\n",
       " array([2.31182265e+10, 2.12153585e+10, 2.05245812e+10, ...,\n",
       "        5.58747252e+05, 5.58490708e+05, 5.58234325e+05]),\n",
       " {'9.839999999999999e-11': 'Will Converge'})"
      ]
     },
     "execution_count": 741,
     "metadata": {},
     "output_type": "execute_result"
    }
   ],
   "source": [
    "plain_result"
   ]
  },
  {
   "cell_type": "code",
   "execution_count": 742,
   "metadata": {
    "scrolled": true
   },
   "outputs": [],
   "source": [
    "plain_weight = plain_result[0]"
   ]
  },
  {
   "cell_type": "code",
   "execution_count": 743,
   "metadata": {},
   "outputs": [],
   "source": [
    "val_plain = preprocess_data(val_data)"
   ]
  },
  {
   "cell_type": "code",
   "execution_count": 744,
   "metadata": {
    "scrolled": true
   },
   "outputs": [
    {
     "data": {
      "text/plain": [
       "552201.588"
      ]
     },
     "execution_count": 744,
     "metadata": {},
     "output_type": "execute_result"
    }
   ],
   "source": [
    "validate(val_plain, plain_weight)"
   ]
  },
  {
   "cell_type": "code",
   "execution_count": 750,
   "metadata": {},
   "outputs": [
    {
     "data": {
      "text/plain": [
       "array([ 9.99423805e-01,  9.99406577e-01,  7.50961432e-02, -7.18507373e-04,\n",
       "        9.99810108e-01,  9.99993038e-01,  9.99746629e-01,  1.00001161e+00,\n",
       "        9.99011905e-01,  2.89282052e-01,  7.85814092e-01,  9.71361082e-01,\n",
       "        8.77846815e-01, -5.69099644e-02,  9.99473086e-01,  1.00129926e+00,\n",
       "        3.87766582e-01, -2.89349848e-03,  9.78109928e-01,  9.99885009e-01,\n",
       "        9.99885718e-01,  1.01016137e+00])"
      ]
     },
     "execution_count": 750,
     "metadata": {},
     "output_type": "execute_result"
    }
   ],
   "source": [
    "plain_weight[1:]"
   ]
  },
  {
   "cell_type": "code",
   "execution_count": 461,
   "metadata": {},
   "outputs": [],
   "source": [
    "data_sqrt_living_dropped = preprocess_data(data, normalize =True, drop_sqft_living15=True)"
   ]
  },
  {
   "cell_type": "code",
   "execution_count": 537,
   "metadata": {},
   "outputs": [],
   "source": [
    "data_sqrt_living_dropped_result = gd_train(data_sqrt_living_dropped, 0.1, 10**-3)"
   ]
  },
  {
   "cell_type": "code",
   "execution_count": 538,
   "metadata": {},
   "outputs": [],
   "source": [
    "data_sqrt_living_dropped_weights = data_sqrt_living_dropped_result[0]"
   ]
  },
  {
   "cell_type": "code",
   "execution_count": 551,
   "metadata": {},
   "outputs": [
    {
     "data": {
      "text/plain": [
       "array([-0.27722643,  0.3293128 ,  0.59866203,  0.05009236,  0.04262883,\n",
       "        1.17317547,  0.54360895,  0.19409438,  1.17722584,  0.94945274,\n",
       "        0.25747382,  0.52274426,  0.55832287, -0.25360272,  0.83304651,\n",
       "       -0.26174167, -0.09483023,  0.26910221,  0.1790998 , -0.03572605,\n",
       "        1.31155977])"
      ]
     },
     "execution_count": 551,
     "metadata": {},
     "output_type": "execute_result"
    }
   ],
   "source": [
    "data_sqrt_living_dropped_weights[1:]"
   ]
  },
  {
   "cell_type": "code",
   "execution_count": 549,
   "metadata": {},
   "outputs": [],
   "source": [
    "dropped_sqft_living_val = preprocess_data(val_data, drop_sqft_living15 = True, test = True)"
   ]
  },
  {
   "cell_type": "code",
   "execution_count": 550,
   "metadata": {},
   "outputs": [
    {
     "data": {
      "text/plain": [
       "4.726"
      ]
     },
     "execution_count": 550,
     "metadata": {},
     "output_type": "execute_result"
    }
   ],
   "source": [
    "validate(dropped_sqft_living_val, data_sqrt_living_dropped_weights)"
   ]
  }
 ],
 "metadata": {
  "kernelspec": {
   "display_name": "Python 3 (ipykernel)",
   "language": "python",
   "name": "python3"
  },
  "language_info": {
   "codemirror_mode": {
    "name": "ipython",
    "version": 3
   },
   "file_extension": ".py",
   "mimetype": "text/x-python",
   "name": "python",
   "nbconvert_exporter": "python",
   "pygments_lexer": "ipython3",
   "version": "3.9.12"
  },
  "vscode": {
   "interpreter": {
    "hash": "5109d816b82be14675a6b11f8e0f0d2e80f029176ed3710d54e125caa8520dfd"
   }
  }
 },
 "nbformat": 4,
 "nbformat_minor": 2
}
